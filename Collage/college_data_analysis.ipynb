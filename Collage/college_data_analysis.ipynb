# Databricks notebook source
# Load libraries
import pandas as pd
from pyspark.sql import SparkSession

# Initialize Spark session
spark = SparkSession.builder.appName("College Data Analysis").getOrCreate()

# Load the dataset (update the path to your dataset)
data = [("ABC University", "New York", 20000, 1),
        ("XYZ College", "California", 15000, 2),
        ("PQR Institute", "Texas", 10000, 3)]
columns = ["College", "Location", "Students", "Ranking"]

# Create a Spark DataFrame
df = spark.createDataFrame(data, columns)

# Show the data
print("Sample College Data:")
df.show()

# Perform some analysis (e.g., filter by ranking)
top_colleges = df.filter(df.Ranking <= 2)
print("Top Colleges:")
top_colleges.show()